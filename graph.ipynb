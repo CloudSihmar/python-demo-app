{
 "cells": [
  {
   "cell_type": "code",
   "execution_count": 2,
   "id": "d2efadde-4606-4539-b3ad-2e968acdae78",
   "metadata": {
    "tags": []
   },
   "outputs": [
    {
     "name": "stdout",
     "output_type": "stream",
     "text": [
      "Collecting graphviz\n",
      "  Downloading graphviz-0.20.3-py3-none-any.whl.metadata (12 kB)\n",
      "Downloading graphviz-0.20.3-py3-none-any.whl (47 kB)\n",
      "\u001b[2K   \u001b[90m━━━━━━━━━━━━━━━━━━━━━━━━━━━━━━━━━━━━━━━━\u001b[0m \u001b[32m47.1/47.1 kB\u001b[0m \u001b[31m623.7 kB/s\u001b[0m eta \u001b[36m0:00:00\u001b[0m \u001b[36m0:00:01\u001b[0m\n",
      "\u001b[?25hInstalling collected packages: graphviz\n",
      "Successfully installed graphviz-0.20.3\n",
      "Note: you may need to restart the kernel to use updated packages.\n"
     ]
    }
   ],
   "source": [
    "pip install graphviz"
   ]
  },
  {
   "cell_type": "code",
   "execution_count": 8,
   "id": "c1e43031-a85a-4a42-8baf-5649656781e6",
   "metadata": {
    "tags": []
   },
   "outputs": [
    {
     "name": "stdout",
     "output_type": "stream",
     "text": [
      "The function 'get_companies' in file 'company_service.py' calls the functions: get_company_info, jsonify.\n",
      "The function 'get_company' in file 'company_service.py' calls the functions: get_company_info, jsonify, jsonify.\n",
      "The function 'get_company_info' in file 'utils.py' does not call any other functions.\n",
      "The function 'get_employees' in file 'employee_service.py' calls the functions: get_employee_info, jsonify.\n",
      "The function 'get_employee' in file 'employee_service.py' calls the functions: get_employee_info, jsonify, jsonify.\n",
      "The function 'get_employee_info' in file 'utils.py' does not call any other functions.\n",
      "Diagram saved as diagram.png\n"
     ]
    }
   ],
   "source": [
    "import ast\n",
    "import os\n",
    "from graphviz import Digraph\n",
    "\n",
    "def parse_functions(file_content, file_name):\n",
    "    tree = ast.parse(file_content)\n",
    "    functions = {}\n",
    "    \n",
    "    class FunctionVisitor(ast.NodeVisitor):\n",
    "        def visit_FunctionDef(self, node):\n",
    "            functions[node.name] = {\n",
    "                'file': file_name,\n",
    "                'calls': [n.func.id for n in ast.walk(node) if isinstance(n, ast.Call) and isinstance(n.func, ast.Name)]\n",
    "            }\n",
    "            self.generic_visit(node)\n",
    "    \n",
    "    FunctionVisitor().visit(tree)\n",
    "    return functions\n",
    "\n",
    "def read_file(file_path):\n",
    "    with open(file_path, 'r') as file:\n",
    "        return file.read()\n",
    "\n",
    "def parse_directory(directory):\n",
    "    all_functions = {}\n",
    "    for root, _, files in os.walk(directory):\n",
    "        for file in files:\n",
    "            if file.endswith('.py'):\n",
    "                file_path = os.path.join(root, file)\n",
    "                file_content = read_file(file_path)\n",
    "                file_functions = parse_functions(file_content, file)\n",
    "                all_functions.update(file_functions)\n",
    "    return all_functions\n",
    "\n",
    "def generate_explanation(functions):\n",
    "    explanations = []\n",
    "    for func, details in functions.items():\n",
    "        if details['calls']:\n",
    "            explanations.append(f\"The function '{func}' in file '{details['file']}' calls the functions: {', '.join(details['calls'])}.\")\n",
    "        else:\n",
    "            explanations.append(f\"The function '{func}' in file '{details['file']}' does not call any other functions.\")\n",
    "    return explanations\n",
    "\n",
    "def create_diagram(functions, output_file='diagram'):\n",
    "    dot = Digraph(comment='Function Call Graph')\n",
    "    for func, details in functions.items():\n",
    "        dot.node(func, f\"{func} ({details['file']})\")\n",
    "        for called_func in details['calls']:\n",
    "            if called_func in functions:\n",
    "                dot.edge(func, called_func)\n",
    "    dot.render(output_file, format='png')\n",
    "    print(f\"Diagram saved as {output_file}.png\")\n",
    "\n",
    "# Example usage for the entire directory\n",
    "directory_path = 'employee-demo-app'\n",
    "all_functions = parse_directory(directory_path)\n",
    "\n",
    "explanations = generate_explanation(all_functions)\n",
    "for explanation in explanations:\n",
    "    print(explanation)\n",
    "\n",
    "create_diagram(all_functions)\n"
   ]
  },
  {
   "cell_type": "code",
   "execution_count": null,
   "id": "0c98ccf0-412c-4f50-afd0-7dc87a2261d1",
   "metadata": {},
   "outputs": [],
   "source": []
  }
 ],
 "metadata": {
  "kernelspec": {
   "display_name": "conda_python3",
   "language": "python",
   "name": "conda_python3"
  },
  "language_info": {
   "codemirror_mode": {
    "name": "ipython",
    "version": 3
   },
   "file_extension": ".py",
   "mimetype": "text/x-python",
   "name": "python",
   "nbconvert_exporter": "python",
   "pygments_lexer": "ipython3",
   "version": "3.10.14"
  }
 },
 "nbformat": 4,
 "nbformat_minor": 5
}
